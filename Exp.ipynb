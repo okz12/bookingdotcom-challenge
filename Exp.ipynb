{
 "cells": [
  {
   "cell_type": "code",
   "execution_count": 44,
   "metadata": {
    "ExecuteTime": {
     "end_time": "2020-12-20T19:40:59.631466Z",
     "start_time": "2020-12-20T19:40:56.938902Z"
    }
   },
   "outputs": [],
   "source": [
    "from zipfile import ZipFile \n",
    "import pandas as pd\n",
    "\n",
    "filename = \"Data/raw.zip\"\n",
    "  \n",
    "with ZipFile(filename, 'r') as zp: \n",
    "    zp.extract('booking_train_set.csv', 'Data/')\n",
    "    \n",
    "df = pd.read_csv(\"data/booking_train_set.csv\", index_col=0)\n",
    "\n",
    "cats = ['user_id',\n",
    " 'city_id',\n",
    " 'device_class',\n",
    " 'affiliate_id',\n",
    " 'booker_country',\n",
    " 'hotel_country',\n",
    " 'utrip_id']\n",
    "dates = [ 'checkin', 'checkout']\n",
    "for c in cats:\n",
    "    df[c] = df[c].astype('category')\n",
    "    \n",
    "for d in dates:\n",
    "    df[d] = pd.to_datetime(df[d])"
   ]
  },
  {
   "cell_type": "code",
   "execution_count": 51,
   "metadata": {
    "ExecuteTime": {
     "end_time": "2020-12-20T19:42:57.028158Z",
     "start_time": "2020-12-20T19:42:53.054582Z"
    }
   },
   "outputs": [
    {
     "data": {
      "text/plain": [
       "user_id           200153\n",
       "checkin              425\n",
       "checkout             425\n",
       "city_id            39901\n",
       "device_class           3\n",
       "affiliate_id        3254\n",
       "booker_country         5\n",
       "hotel_country        195\n",
       "utrip_id          217686\n",
       "dtype: int64"
      ]
     },
     "execution_count": 51,
     "metadata": {},
     "output_type": "execute_result"
    }
   ],
   "source": [
    "df.apply(lambda x: len(set(x)))"
   ]
  }
 ],
 "metadata": {
  "kernelspec": {
   "display_name": "Python 3",
   "language": "python",
   "name": "python3"
  },
  "language_info": {
   "codemirror_mode": {
    "name": "ipython",
    "version": 3
   },
   "file_extension": ".py",
   "mimetype": "text/x-python",
   "name": "python",
   "nbconvert_exporter": "python",
   "pygments_lexer": "ipython3",
   "version": "3.7.6"
  },
  "toc": {
   "base_numbering": 1,
   "nav_menu": {},
   "number_sections": true,
   "sideBar": true,
   "skip_h1_title": false,
   "title_cell": "Table of Contents",
   "title_sidebar": "Contents",
   "toc_cell": false,
   "toc_position": {},
   "toc_section_display": true,
   "toc_window_display": false
  }
 },
 "nbformat": 4,
 "nbformat_minor": 4
}
