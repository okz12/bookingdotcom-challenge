{
 "cells": [
  {
   "cell_type": "code",
   "execution_count": 1,
   "metadata": {
    "ExecuteTime": {
     "end_time": "2021-01-06T20:37:22.293803Z",
     "start_time": "2021-01-06T20:37:18.800987Z"
    }
   },
   "outputs": [],
   "source": [
    "from datautils import load\n",
    "df = load()"
   ]
  },
  {
   "cell_type": "code",
   "execution_count": 32,
   "metadata": {
    "ExecuteTime": {
     "end_time": "2021-01-11T07:09:27.128509Z",
     "start_time": "2021-01-11T07:09:27.119548Z"
    }
   },
   "outputs": [],
   "source": [
    "import matplotlib.pyplot as plt\n",
    "import numpy as np\n",
    "%matplotlib inline\n",
    "import seaborn as sns"
   ]
  },
  {
   "cell_type": "code",
   "execution_count": 20,
   "metadata": {
    "ExecuteTime": {
     "end_time": "2021-01-07T04:37:12.013569Z",
     "start_time": "2021-01-07T04:37:11.496727Z"
    }
   },
   "outputs": [
    {
     "data": {
      "text/html": [
       "<div>\n",
       "<style scoped>\n",
       "    .dataframe tbody tr th:only-of-type {\n",
       "        vertical-align: middle;\n",
       "    }\n",
       "\n",
       "    .dataframe tbody tr th {\n",
       "        vertical-align: top;\n",
       "    }\n",
       "\n",
       "    .dataframe thead th {\n",
       "        text-align: right;\n",
       "    }\n",
       "</style>\n",
       "<table border=\"1\" class=\"dataframe\">\n",
       "  <thead>\n",
       "    <tr style=\"text-align: right;\">\n",
       "      <th></th>\n",
       "      <th>user_id</th>\n",
       "      <th>checkin</th>\n",
       "      <th>checkout</th>\n",
       "      <th>city_id</th>\n",
       "      <th>device_class</th>\n",
       "      <th>affiliate_id</th>\n",
       "      <th>booker_country</th>\n",
       "      <th>hotel_country</th>\n",
       "      <th>utrip_id</th>\n",
       "    </tr>\n",
       "  </thead>\n",
       "  <tbody>\n",
       "    <tr>\n",
       "      <th>count</th>\n",
       "      <td>1166835.0</td>\n",
       "      <td>1166835</td>\n",
       "      <td>1166835</td>\n",
       "      <td>1166835.0</td>\n",
       "      <td>1166835</td>\n",
       "      <td>1166835.0</td>\n",
       "      <td>1166835</td>\n",
       "      <td>1166835</td>\n",
       "      <td>1166835</td>\n",
       "    </tr>\n",
       "    <tr>\n",
       "      <th>unique</th>\n",
       "      <td>200153.0</td>\n",
       "      <td>425</td>\n",
       "      <td>425</td>\n",
       "      <td>39901.0</td>\n",
       "      <td>3</td>\n",
       "      <td>3254.0</td>\n",
       "      <td>5</td>\n",
       "      <td>195</td>\n",
       "      <td>217686</td>\n",
       "    </tr>\n",
       "    <tr>\n",
       "      <th>top</th>\n",
       "      <td>2209265.0</td>\n",
       "      <td>2016-08-08 00:00:00</td>\n",
       "      <td>2016-08-10 00:00:00</td>\n",
       "      <td>47499.0</td>\n",
       "      <td>desktop</td>\n",
       "      <td>9924.0</td>\n",
       "      <td>Gondal</td>\n",
       "      <td>Cobra Island</td>\n",
       "      <td>3635431_3</td>\n",
       "    </tr>\n",
       "    <tr>\n",
       "      <th>freq</th>\n",
       "      <td>172.0</td>\n",
       "      <td>9672</td>\n",
       "      <td>9549</td>\n",
       "      <td>11242.0</td>\n",
       "      <td>753860</td>\n",
       "      <td>277775.0</td>\n",
       "      <td>536036</td>\n",
       "      <td>137791</td>\n",
       "      <td>48</td>\n",
       "    </tr>\n",
       "    <tr>\n",
       "      <th>first</th>\n",
       "      <td>NaN</td>\n",
       "      <td>2015-12-31 00:00:00</td>\n",
       "      <td>2016-01-01 00:00:00</td>\n",
       "      <td>NaN</td>\n",
       "      <td>NaN</td>\n",
       "      <td>NaN</td>\n",
       "      <td>NaN</td>\n",
       "      <td>NaN</td>\n",
       "      <td>NaN</td>\n",
       "    </tr>\n",
       "    <tr>\n",
       "      <th>last</th>\n",
       "      <td>NaN</td>\n",
       "      <td>2017-02-27 00:00:00</td>\n",
       "      <td>2017-02-28 00:00:00</td>\n",
       "      <td>NaN</td>\n",
       "      <td>NaN</td>\n",
       "      <td>NaN</td>\n",
       "      <td>NaN</td>\n",
       "      <td>NaN</td>\n",
       "      <td>NaN</td>\n",
       "    </tr>\n",
       "  </tbody>\n",
       "</table>\n",
       "</div>"
      ],
      "text/plain": [
       "          user_id              checkin             checkout    city_id  \\\n",
       "count   1166835.0              1166835              1166835  1166835.0   \n",
       "unique   200153.0                  425                  425    39901.0   \n",
       "top     2209265.0  2016-08-08 00:00:00  2016-08-10 00:00:00    47499.0   \n",
       "freq        172.0                 9672                 9549    11242.0   \n",
       "first         NaN  2015-12-31 00:00:00  2016-01-01 00:00:00        NaN   \n",
       "last          NaN  2017-02-27 00:00:00  2017-02-28 00:00:00        NaN   \n",
       "\n",
       "       device_class  affiliate_id booker_country hotel_country   utrip_id  \n",
       "count       1166835     1166835.0        1166835       1166835    1166835  \n",
       "unique            3        3254.0              5           195     217686  \n",
       "top         desktop        9924.0         Gondal  Cobra Island  3635431_3  \n",
       "freq         753860      277775.0         536036        137791         48  \n",
       "first           NaN           NaN            NaN           NaN        NaN  \n",
       "last            NaN           NaN            NaN           NaN        NaN  "
      ]
     },
     "execution_count": 20,
     "metadata": {},
     "output_type": "execute_result"
    }
   ],
   "source": [
    "df.describe()"
   ]
  },
  {
   "cell_type": "markdown",
   "metadata": {},
   "source": [
    "- 3 Device Classes\n",
    "- 5 Booker Countries out of 195\n",
    "- Dates from 31/12/2015 - 28/02/2017\n",
    "- 39901 unique cities\n",
    "- 3254 affiliates"
   ]
  },
  {
   "cell_type": "markdown",
   "metadata": {},
   "source": [
    "### Hotel Country - Booker Country Correlation"
   ]
  },
  {
   "cell_type": "code",
   "execution_count": 49,
   "metadata": {
    "ExecuteTime": {
     "end_time": "2021-01-11T07:20:25.189195Z",
     "start_time": "2021-01-11T07:20:22.858193Z"
    }
   },
   "outputs": [
    {
     "data": {
      "text/plain": [
       "<matplotlib.axes._subplots.AxesSubplot at 0x7f83e1ba8650>"
      ]
     },
     "execution_count": 49,
     "metadata": {},
     "output_type": "execute_result"
    },
    {
     "data": {
      "image/png": "[encoded data removed]",
      "text/plain": [
       "<Figure size 432x288 with 1 Axes>"
      ]
     },
     "metadata": {
      "needs_background": "light"
     },
     "output_type": "display_data"
    }
   ],
   "source": [
    "sns.histplot(df['hotel_country']) # use counter / bin and plot by frequency"
   ]
  },
  {
   "cell_type": "code",
   "execution_count": 50,
   "metadata": {
    "ExecuteTime": {
     "end_time": "2021-01-11T07:20:26.018196Z",
     "start_time": "2021-01-11T07:20:25.191188Z"
    }
   },
   "outputs": [
    {
     "data": {
      "text/plain": [
       "<matplotlib.axes._subplots.AxesSubplot at 0x7f83e5174a10>"
      ]
     },
     "execution_count": 50,
     "metadata": {},
     "output_type": "execute_result"
    },
    {
     "data": {
      "image/png": "[encoded data removed]",
      "text/plain": [
       "<Figure size 432x288 with 1 Axes>"
      ]
     },
     "metadata": {
      "needs_background": "light"
     },
     "output_type": "display_data"
    }
   ],
   "source": [
    "sns.histplot(df['booker_country'])"
   ]
  },
  {
   "cell_type": "code",
   "execution_count": 51,
   "metadata": {
    "ExecuteTime": {
     "end_time": "2021-01-11T07:20:26.339307Z",
     "start_time": "2021-01-11T07:20:26.020300Z"
    }
   },
   "outputs": [
    {
     "data": {
      "text/plain": [
       "<matplotlib.axes._subplots.AxesSubplot at 0x7f83e66e26d0>"
      ]
     },
     "execution_count": 51,
     "metadata": {},
     "output_type": "execute_result"
    },
    {
     "data": {
      "image/png": "[encoded data removed]",
      "text/plain": [
       "<Figure size 432x288 with 2 Axes>"
      ]
     },
     "metadata": {
      "needs_background": "light"
     },
     "output_type": "display_data"
    }
   ],
   "source": [
    "booker_to_hotel = df.pivot_table(index='hotel_country', columns='booker_country', values='utrip_id', aggfunc=len).fillna(0)\n",
    "sns.heatmap(booker_to_hotel)"
   ]
  }
 ],
 "metadata": {
  "kernelspec": {
   "display_name": "Python 3",
   "language": "python",
   "name": "python3"
  },
  "language_info": {
   "codemirror_mode": {
    "name": "ipython",
    "version": 3
   },
   "file_extension": ".py",
   "mimetype": "text/x-python",
   "name": "python",
   "nbconvert_exporter": "python",
   "pygments_lexer": "ipython3",
   "version": "3.7.6"
  },
  "toc": {
   "base_numbering": 1,
   "nav_menu": {},
   "number_sections": true,
   "sideBar": true,
   "skip_h1_title": false,
   "title_cell": "Table of Contents",
   "title_sidebar": "Contents",
   "toc_cell": false,
   "toc_position": {},
   "toc_section_display": true,
   "toc_window_display": false
  }
 },
 "nbformat": 4,
 "nbformat_minor": 4
}
